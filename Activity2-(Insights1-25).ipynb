{
 "cells": [
  {
   "cell_type": "markdown",
   "id": "d2599420-9cc8-4b42-8902-f20a8a80b4f1",
   "metadata": {},
   "source": [
    "<h1>ACTIVITY 2 - UK ACCIDENT DATA</h1>\n",
    "<hr>"
   ]
  },
  {
   "cell_type": "markdown",
   "id": "8ad58c70-f822-4c4b-9485-e326f857bdd0",
   "metadata": {},
   "source": [
    "<h2>Analyst: Alanis Danica P. Concha</h2>"
   ]
  },
  {
   "cell_type": "code",
   "execution_count": 1,
   "id": "74a03c73-3054-48f9-8d54-4387d3d75657",
   "metadata": {},
   "outputs": [],
   "source": [
    "import numpy as np\n",
    "import pandas as pd\n",
    "from scipy.stats import f_oneway"
   ]
  },
  {
   "cell_type": "code",
   "execution_count": 2,
   "id": "59c3accd-c73e-4e3a-a735-b6c59e3d245c",
   "metadata": {},
   "outputs": [],
   "source": [
    "accident = pd.read_csv('Datasets\\\\uk_accident_data.csv')"
   ]
  },
  {
   "cell_type": "code",
   "execution_count": 4,
   "id": "b647e578-e616-46e1-a429-7c0cb3b3cf66",
   "metadata": {},
   "outputs": [
    {
     "data": {
      "text/html": [
       "<div>\n",
       "<style scoped>\n",
       "    .dataframe tbody tr th:only-of-type {\n",
       "        vertical-align: middle;\n",
       "    }\n",
       "\n",
       "    .dataframe tbody tr th {\n",
       "        vertical-align: top;\n",
       "    }\n",
       "\n",
       "    .dataframe thead th {\n",
       "        text-align: right;\n",
       "    }\n",
       "</style>\n",
       "<table border=\"1\" class=\"dataframe\">\n",
       "  <thead>\n",
       "    <tr style=\"text-align: right;\">\n",
       "      <th></th>\n",
       "      <th>Latitude</th>\n",
       "      <th>Longitude</th>\n",
       "      <th>Number_of_Casualties</th>\n",
       "      <th>Number_of_Vehicles</th>\n",
       "    </tr>\n",
       "  </thead>\n",
       "  <tbody>\n",
       "    <tr>\n",
       "      <th>count</th>\n",
       "      <td>660654.000000</td>\n",
       "      <td>660653.000000</td>\n",
       "      <td>660679.000000</td>\n",
       "      <td>660679.000000</td>\n",
       "    </tr>\n",
       "    <tr>\n",
       "      <th>mean</th>\n",
       "      <td>52.553866</td>\n",
       "      <td>-1.431210</td>\n",
       "      <td>1.357040</td>\n",
       "      <td>1.831255</td>\n",
       "    </tr>\n",
       "    <tr>\n",
       "      <th>std</th>\n",
       "      <td>1.406922</td>\n",
       "      <td>1.383330</td>\n",
       "      <td>0.824847</td>\n",
       "      <td>0.715269</td>\n",
       "    </tr>\n",
       "    <tr>\n",
       "      <th>min</th>\n",
       "      <td>49.914430</td>\n",
       "      <td>-7.516225</td>\n",
       "      <td>1.000000</td>\n",
       "      <td>1.000000</td>\n",
       "    </tr>\n",
       "    <tr>\n",
       "      <th>25%</th>\n",
       "      <td>51.490690</td>\n",
       "      <td>-2.332291</td>\n",
       "      <td>1.000000</td>\n",
       "      <td>1.000000</td>\n",
       "    </tr>\n",
       "    <tr>\n",
       "      <th>50%</th>\n",
       "      <td>52.315641</td>\n",
       "      <td>-1.411667</td>\n",
       "      <td>1.000000</td>\n",
       "      <td>2.000000</td>\n",
       "    </tr>\n",
       "    <tr>\n",
       "      <th>75%</th>\n",
       "      <td>53.453452</td>\n",
       "      <td>-0.232869</td>\n",
       "      <td>1.000000</td>\n",
       "      <td>2.000000</td>\n",
       "    </tr>\n",
       "    <tr>\n",
       "      <th>max</th>\n",
       "      <td>60.757544</td>\n",
       "      <td>1.762010</td>\n",
       "      <td>68.000000</td>\n",
       "      <td>32.000000</td>\n",
       "    </tr>\n",
       "  </tbody>\n",
       "</table>\n",
       "</div>"
      ],
      "text/plain": [
       "            Latitude      Longitude  Number_of_Casualties  Number_of_Vehicles\n",
       "count  660654.000000  660653.000000         660679.000000       660679.000000\n",
       "mean       52.553866      -1.431210              1.357040            1.831255\n",
       "std         1.406922       1.383330              0.824847            0.715269\n",
       "min        49.914430      -7.516225              1.000000            1.000000\n",
       "25%        51.490690      -2.332291              1.000000            1.000000\n",
       "50%        52.315641      -1.411667              1.000000            2.000000\n",
       "75%        53.453452      -0.232869              1.000000            2.000000\n",
       "max        60.757544       1.762010             68.000000           32.000000"
      ]
     },
     "execution_count": 4,
     "metadata": {},
     "output_type": "execute_result"
    }
   ],
   "source": [
    "accident.describe()"
   ]
  },
  {
   "cell_type": "markdown",
   "id": "a0db0559-5de4-4712-ab92-d2c532680a5d",
   "metadata": {},
   "source": [
    "<h1>DATA CLEANSING</h1>"
   ]
  },
  {
   "cell_type": "code",
   "execution_count": 5,
   "id": "7edbc117-28dc-48e1-9043-9915861cad26",
   "metadata": {},
   "outputs": [
    {
     "data": {
      "text/plain": [
       "Index                          0\n",
       "Accident_Severity              0\n",
       "Accident Date                  0\n",
       "Latitude                      25\n",
       "Light_Conditions               0\n",
       "District Area                  0\n",
       "Longitude                     26\n",
       "Number_of_Casualties           0\n",
       "Number_of_Vehicles             0\n",
       "Road_Surface_Conditions      726\n",
       "Road_Type                   4520\n",
       "Urban_or_Rural_Area           15\n",
       "Weather_Conditions         14128\n",
       "Vehicle_Type                   0\n",
       "dtype: int64"
      ]
     },
     "execution_count": 5,
     "metadata": {},
     "output_type": "execute_result"
    }
   ],
   "source": [
    "accident.isnull().sum()"
   ]
  },
  {
   "cell_type": "code",
   "execution_count": 6,
   "id": "b52b45ff-0433-4158-92de-e17cf0ee4378",
   "metadata": {},
   "outputs": [
    {
     "data": {
      "text/plain": [
       "<bound method DataFrame.info of                 Index Accident_Severity Accident Date   Latitude  \\\n",
       "0       200701BS64157           Serious    05/06/2019  51.506187   \n",
       "1       200701BS65737           Serious    02/07/2019  51.495029   \n",
       "2       200701BS66127           Serious    26/08/2019  51.517715   \n",
       "3       200701BS66128           Serious    16/08/2019  51.495478   \n",
       "4       200701BS66837            Slight    03/09/2019  51.488576   \n",
       "...               ...               ...           ...        ...   \n",
       "660674  201091NM01760            Slight    18/02/2022  57.374005   \n",
       "660675  201091NM01881            Slight    21/02/2022  57.232273   \n",
       "660676  201091NM01935            Slight    23/02/2022  57.585044   \n",
       "660677  201091NM01964           Serious    23/02/2022  57.214898   \n",
       "660678  201091NM02142           Serious    28/02/2022  57.575210   \n",
       "\n",
       "                   Light_Conditions           District Area  Longitude  \\\n",
       "0             Darkness - lights lit  Kensington and Chelsea  -0.209082   \n",
       "1                          Daylight  Kensington and Chelsea  -0.173647   \n",
       "2       Darkness - lighting unknown  Kensington and Chelsea  -0.210215   \n",
       "3                          Daylight  Kensington and Chelsea  -0.202731   \n",
       "4             Darkness - lights lit  Kensington and Chelsea  -0.192487   \n",
       "...                             ...                     ...        ...   \n",
       "660674                     Daylight                Highland  -3.467828   \n",
       "660675       Darkness - no lighting                Highland  -3.809281   \n",
       "660676                     Daylight                Highland  -3.862727   \n",
       "660677       Darkness - no lighting                Highland  -3.823997   \n",
       "660678                     Daylight                Highland  -3.895673   \n",
       "\n",
       "        Number_of_Casualties  Number_of_Vehicles Road_Surface_Conditions  \\\n",
       "0                          1                   2                     Dry   \n",
       "1                          1                   2             Wet or damp   \n",
       "2                          1                   3                     Dry   \n",
       "3                          1                   4                     Dry   \n",
       "4                          1                   2                     Dry   \n",
       "...                      ...                 ...                     ...   \n",
       "660674                     2                   1                     Dry   \n",
       "660675                     1                   1            Frost or ice   \n",
       "660676                     1                   3            Frost or ice   \n",
       "660677                     1                   2             Wet or damp   \n",
       "660678                     1                   1             Wet or damp   \n",
       "\n",
       "                 Road_Type Urban_or_Rural_Area     Weather_Conditions  \\\n",
       "0       Single carriageway               Urban     Fine no high winds   \n",
       "1       Single carriageway               Urban  Raining no high winds   \n",
       "2                      NaN               Urban                    NaN   \n",
       "3       Single carriageway               Urban     Fine no high winds   \n",
       "4                      NaN               Urban                    NaN   \n",
       "...                    ...                 ...                    ...   \n",
       "660674  Single carriageway               Rural     Fine no high winds   \n",
       "660675  Single carriageway               Rural     Fine no high winds   \n",
       "660676  Single carriageway               Rural     Fine no high winds   \n",
       "660677  Single carriageway               Rural     Fine no high winds   \n",
       "660678    Dual carriageway               Rural  Snowing no high winds   \n",
       "\n",
       "                                Vehicle_Type  \n",
       "0                                        Car  \n",
       "1                                        Car  \n",
       "2                      Taxi/Private hire car  \n",
       "3       Bus or coach (17 or more pass seats)  \n",
       "4                              Other vehicle  \n",
       "...                                      ...  \n",
       "660674                                   Car  \n",
       "660675                                   Car  \n",
       "660676                                   Car  \n",
       "660677                 Motorcycle over 500cc  \n",
       "660678                                   Car  \n",
       "\n",
       "[660679 rows x 14 columns]>"
      ]
     },
     "execution_count": 6,
     "metadata": {},
     "output_type": "execute_result"
    }
   ],
   "source": [
    "accident.info"
   ]
  },
  {
   "cell_type": "code",
   "execution_count": null,
   "id": "f5d862fe-e11c-4fdb-9c65-f93883d74127",
   "metadata": {},
   "outputs": [],
   "source": []
  },
  {
   "cell_type": "markdown",
   "id": "6bbb8284-76e2-48a1-9d2a-9dfb79b44e94",
   "metadata": {},
   "source": [
    "<h1>ADJUSTING DATA TYPES</h1>"
   ]
  },
  {
   "cell_type": "code",
   "execution_count": 7,
   "id": "edaada42-610c-4e82-b554-f30205d4f255",
   "metadata": {},
   "outputs": [],
   "source": [
    "accident['Accident_Date'] = pd.to_datetime(accident['Accident Date'], dayfirst = True, errors = 'coerce')"
   ]
  },
  {
   "cell_type": "code",
   "execution_count": 8,
   "id": "f095ff5d-8bb7-4105-ba11-5caf320394a3",
   "metadata": {},
   "outputs": [
    {
     "data": {
      "text/plain": [
       "Index                              object\n",
       "Accident_Severity                  object\n",
       "Accident Date                      object\n",
       "Latitude                          float64\n",
       "Light_Conditions                   object\n",
       "District Area                      object\n",
       "Longitude                         float64\n",
       "Number_of_Casualties                int64\n",
       "Number_of_Vehicles                  int64\n",
       "Road_Surface_Conditions            object\n",
       "Road_Type                          object\n",
       "Urban_or_Rural_Area                object\n",
       "Weather_Conditions                 object\n",
       "Vehicle_Type                       object\n",
       "Accident_Date              datetime64[ns]\n",
       "dtype: object"
      ]
     },
     "execution_count": 8,
     "metadata": {},
     "output_type": "execute_result"
    }
   ],
   "source": [
    "accident.dtypes"
   ]
  },
  {
   "cell_type": "markdown",
   "id": "5229706f-e91c-4289-b51d-c1089fcbeb30",
   "metadata": {},
   "source": [
    "<h1>EXTRACTING DATE INFORMATION USING PANDA DATE TIME</h1>"
   ]
  },
  {
   "cell_type": "code",
   "execution_count": 9,
   "id": "7c537e86-92b5-4181-a179-7d1cb4217b6f",
   "metadata": {},
   "outputs": [],
   "source": [
    "accident['Year'] = accident['Accident_Date'].dt.year\n",
    "accident['Month'] = accident['Accident_Date'].dt.month\n",
    "accident['Day'] = accident['Accident_Date'].dt.day\n",
    "accident['DayOfWeek'] = accident['Accident_Date'].dt.dayofweek"
   ]
  },
  {
   "cell_type": "code",
   "execution_count": 10,
   "id": "c204dc99-e772-467a-8285-88f2b436a5fa",
   "metadata": {},
   "outputs": [
    {
     "data": {
      "text/plain": [
       "Index                          0\n",
       "Accident_Severity              0\n",
       "Accident Date                  0\n",
       "Latitude                      25\n",
       "Light_Conditions               0\n",
       "District Area                  0\n",
       "Longitude                     26\n",
       "Number_of_Casualties           0\n",
       "Number_of_Vehicles             0\n",
       "Road_Surface_Conditions      726\n",
       "Road_Type                   4520\n",
       "Urban_or_Rural_Area           15\n",
       "Weather_Conditions         14128\n",
       "Vehicle_Type                   0\n",
       "Accident_Date                  0\n",
       "Year                           0\n",
       "Month                          0\n",
       "Day                            0\n",
       "DayOfWeek                      0\n",
       "dtype: int64"
      ]
     },
     "execution_count": 10,
     "metadata": {},
     "output_type": "execute_result"
    }
   ],
   "source": [
    "accident.isnull().sum()"
   ]
  },
  {
   "cell_type": "markdown",
   "id": "31c38c8a-cec6-480a-92da-3947265ca68f",
   "metadata": {},
   "source": [
    "<h1>UNIVARIATE ANALYSIS ON ACCIDENT THAT HAPPENE IN 2019</h1>"
   ]
  },
  {
   "cell_type": "code",
   "execution_count": 11,
   "id": "90975f3b-a14e-49f7-86c9-8481526bf511",
   "metadata": {},
   "outputs": [],
   "source": [
    "df_2019 = accident[accident['Year'] == 2019] "
   ]
  },
  {
   "cell_type": "code",
   "execution_count": 12,
   "id": "1410aa3a-5f16-45da-b3e9-815b79b8ec67",
   "metadata": {},
   "outputs": [
    {
     "name": "stdout",
     "output_type": "stream",
     "text": [
      "total number of accident in 2019 is 182115\n"
     ]
    }
   ],
   "source": [
    "print(f\"total number of accident in 2019 is {df_2019['Light_Conditions'].value_counts().sum()}\")"
   ]
  },
  {
   "cell_type": "markdown",
   "id": "768b9a78-522c-4af5-9c67-35bead15fb17",
   "metadata": {},
   "source": [
    "<h1>Q1: Which vehicle often gets into an accident? </h1>"
   ]
  },
  {
   "cell_type": "code",
   "execution_count": 13,
   "id": "1fd64721-3119-41a5-99f6-2699f63c9aef",
   "metadata": {},
   "outputs": [
    {
     "name": "stdout",
     "output_type": "stream",
     "text": [
      "Index(['Index', 'Accident_Severity', 'Accident Date', 'Latitude',\n",
      "       'Light_Conditions', 'District Area', 'Longitude',\n",
      "       'Number_of_Casualties', 'Number_of_Vehicles', 'Road_Surface_Conditions',\n",
      "       'Road_Type', 'Urban_or_Rural_Area', 'Weather_Conditions',\n",
      "       'Vehicle_Type', 'Accident_Date', 'Year', 'Month', 'Day', 'DayOfWeek'],\n",
      "      dtype='object')\n"
     ]
    }
   ],
   "source": [
    "print(accident.columns)"
   ]
  },
  {
   "cell_type": "code",
   "execution_count": 14,
   "id": "820acce1-4c35-4d25-b747-31a1e497c53f",
   "metadata": {},
   "outputs": [
    {
     "data": {
      "text/plain": [
       "Vehicle_Type\n",
       "Car                                      497992\n",
       "Van / Goods 3.5 tonnes mgw or under       34160\n",
       "Bus or coach (17 or more pass seats)      25878\n",
       "Motorcycle over 500cc                     25657\n",
       "Goods 7.5 tonnes mgw and over             17307\n",
       "Motorcycle 125cc and under                15269\n",
       "Taxi/Private hire car                     13294\n",
       "Motorcycle over 125cc and up to 500cc      7656\n",
       "Motorcycle 50cc and under                  7603\n",
       "Goods over 3.5t. and under 7.5t            6096\n",
       "Other vehicle                              5637\n",
       "Minibus (8 - 16 passenger seats)           1976\n",
       "Agricultural vehicle                       1947\n",
       "Pedal cycle                                 197\n",
       "Data missing or out of range                  6\n",
       "Ridden horse                                  4\n",
       "Name: count, dtype: int64"
      ]
     },
     "execution_count": 14,
     "metadata": {},
     "output_type": "execute_result"
    }
   ],
   "source": [
    "accident['Vehicle_Type'].value_counts()"
   ]
  },
  {
   "cell_type": "markdown",
   "id": "de31f8e4-50e2-44b8-b672-3b11d35efd7e",
   "metadata": {},
   "source": [
    "<h2> \"Insight 1: The data above shows that the most vehicle that always gets into an accident is Car.\" </h2>"
   ]
  },
  {
   "cell_type": "markdown",
   "id": "2c6406c7-ddc2-40b8-a59b-a2d19b9b48c9",
   "metadata": {},
   "source": [
    "<h1>What's the Most Condition happen to accident in uk?</h1>"
   ]
  },
  {
   "cell_type": "code",
   "execution_count": 15,
   "id": "c268757f-bb04-41b6-be54-f46585d0a6d3",
   "metadata": {},
   "outputs": [
    {
     "data": {
      "text/plain": [
       "Accident_Severity\n",
       "Slight     563801\n",
       "Serious     88217\n",
       "Fatal        8661\n",
       "Name: count, dtype: int64"
      ]
     },
     "execution_count": 15,
     "metadata": {},
     "output_type": "execute_result"
    }
   ],
   "source": [
    "accident['Accident_Severity'].value_counts()\n"
   ]
  },
  {
   "cell_type": "markdown",
   "id": "f0d944ba-b5ee-4c61-961f-2c1491aff152",
   "metadata": {},
   "source": [
    "<h2>\"Insight 2: Most of the accident in uk gets a slight conditions\"</h2>"
   ]
  },
  {
   "cell_type": "markdown",
   "id": "51215d03-9343-4e19-aefa-bd7b6a1abca3",
   "metadata": {},
   "source": [
    "<h1>Q2: In what year most of the accidents happen?</h1>"
   ]
  },
  {
   "cell_type": "code",
   "execution_count": 16,
   "id": "d5a54bce-abbe-4492-8fd9-fcb8d6dd2d09",
   "metadata": {},
   "outputs": [
    {
     "data": {
      "text/plain": [
       "Year\n",
       "2019    182115\n",
       "2020    170591\n",
       "2021    163554\n",
       "2022    144419\n",
       "Name: count, dtype: int64"
      ]
     },
     "execution_count": 16,
     "metadata": {},
     "output_type": "execute_result"
    }
   ],
   "source": [
    "accident['Year'].value_counts()"
   ]
  },
  {
   "cell_type": "markdown",
   "id": "ea8bf7de-5ff6-499e-9ead-15cb06516d0b",
   "metadata": {},
   "source": [
    "<h2>Insight 3: In this data shown above it shows that the accidents in uk most happens on 2019 which has 1821115.</h2>"
   ]
  },
  {
   "cell_type": "markdown",
   "id": "af4380df-5ec1-4689-a0bd-cae2d6cc3349",
   "metadata": {},
   "source": [
    "<h1>Q3: Which month record is the highest number of accident?</h1>"
   ]
  },
  {
   "cell_type": "code",
   "execution_count": 17,
   "id": "60521901-fc02-45f6-bf05-0a4ffbdc1cd6",
   "metadata": {},
   "outputs": [
    {
     "data": {
      "text/plain": [
       "Accident Date\n",
       "30/11/2019    704\n",
       "31/01/2019    697\n",
       "13/07/2019    692\n",
       "13/11/2021    692\n",
       "14/08/2019    688\n",
       "             ... \n",
       "30/12/2022    171\n",
       "25/12/2019    157\n",
       "25/12/2022    145\n",
       "10/01/2022    123\n",
       "25/12/2020    118\n",
       "Name: count, Length: 1461, dtype: int64"
      ]
     },
     "execution_count": 17,
     "metadata": {},
     "output_type": "execute_result"
    }
   ],
   "source": [
    "accident['Accident Date'].value_counts()"
   ]
  },
  {
   "cell_type": "markdown",
   "id": "f1e94e46-3ea2-4b16-b9e1-86233bc05eb1",
   "metadata": {},
   "source": [
    "<h2>Insight 4: The data above shows that the month that has many accidents is in November. </h2>"
   ]
  },
  {
   "cell_type": "markdown",
   "id": "eaebaff7-3cc5-4153-b591-1e97f19414e7",
   "metadata": {},
   "source": [
    "<h1>Q5: How many is the overall number of the accident in the year 2019</h1>"
   ]
  },
  {
   "cell_type": "code",
   "execution_count": 18,
   "id": "5e8ebad1-f046-4f35-8dc6-0e9a16c16e44",
   "metadata": {},
   "outputs": [],
   "source": [
    "df_2019 = accident[accident['Year'] == 2019] "
   ]
  },
  {
   "cell_type": "code",
   "execution_count": 19,
   "id": "b7ae3dd9-bda2-47f4-9b89-2fbdb1da82da",
   "metadata": {},
   "outputs": [
    {
     "data": {
      "text/html": [
       "<div>\n",
       "<style scoped>\n",
       "    .dataframe tbody tr th:only-of-type {\n",
       "        vertical-align: middle;\n",
       "    }\n",
       "\n",
       "    .dataframe tbody tr th {\n",
       "        vertical-align: top;\n",
       "    }\n",
       "\n",
       "    .dataframe thead th {\n",
       "        text-align: right;\n",
       "    }\n",
       "</style>\n",
       "<table border=\"1\" class=\"dataframe\">\n",
       "  <thead>\n",
       "    <tr style=\"text-align: right;\">\n",
       "      <th></th>\n",
       "      <th>Index</th>\n",
       "      <th>Accident_Severity</th>\n",
       "      <th>Accident Date</th>\n",
       "      <th>Latitude</th>\n",
       "      <th>Light_Conditions</th>\n",
       "      <th>District Area</th>\n",
       "      <th>Longitude</th>\n",
       "      <th>Number_of_Casualties</th>\n",
       "      <th>Number_of_Vehicles</th>\n",
       "      <th>Road_Surface_Conditions</th>\n",
       "      <th>Road_Type</th>\n",
       "      <th>Urban_or_Rural_Area</th>\n",
       "      <th>Weather_Conditions</th>\n",
       "      <th>Vehicle_Type</th>\n",
       "      <th>Accident_Date</th>\n",
       "      <th>Year</th>\n",
       "      <th>Month</th>\n",
       "      <th>Day</th>\n",
       "      <th>DayOfWeek</th>\n",
       "    </tr>\n",
       "  </thead>\n",
       "  <tbody>\n",
       "    <tr>\n",
       "      <th>0</th>\n",
       "      <td>200701BS64157</td>\n",
       "      <td>Serious</td>\n",
       "      <td>05/06/2019</td>\n",
       "      <td>51.506187</td>\n",
       "      <td>Darkness - lights lit</td>\n",
       "      <td>Kensington and Chelsea</td>\n",
       "      <td>-0.209082</td>\n",
       "      <td>1</td>\n",
       "      <td>2</td>\n",
       "      <td>Dry</td>\n",
       "      <td>Single carriageway</td>\n",
       "      <td>Urban</td>\n",
       "      <td>Fine no high winds</td>\n",
       "      <td>Car</td>\n",
       "      <td>2019-06-05</td>\n",
       "      <td>2019</td>\n",
       "      <td>6</td>\n",
       "      <td>5</td>\n",
       "      <td>2</td>\n",
       "    </tr>\n",
       "    <tr>\n",
       "      <th>1</th>\n",
       "      <td>200701BS65737</td>\n",
       "      <td>Serious</td>\n",
       "      <td>02/07/2019</td>\n",
       "      <td>51.495029</td>\n",
       "      <td>Daylight</td>\n",
       "      <td>Kensington and Chelsea</td>\n",
       "      <td>-0.173647</td>\n",
       "      <td>1</td>\n",
       "      <td>2</td>\n",
       "      <td>Wet or damp</td>\n",
       "      <td>Single carriageway</td>\n",
       "      <td>Urban</td>\n",
       "      <td>Raining no high winds</td>\n",
       "      <td>Car</td>\n",
       "      <td>2019-07-02</td>\n",
       "      <td>2019</td>\n",
       "      <td>7</td>\n",
       "      <td>2</td>\n",
       "      <td>1</td>\n",
       "    </tr>\n",
       "    <tr>\n",
       "      <th>2</th>\n",
       "      <td>200701BS66127</td>\n",
       "      <td>Serious</td>\n",
       "      <td>26/08/2019</td>\n",
       "      <td>51.517715</td>\n",
       "      <td>Darkness - lighting unknown</td>\n",
       "      <td>Kensington and Chelsea</td>\n",
       "      <td>-0.210215</td>\n",
       "      <td>1</td>\n",
       "      <td>3</td>\n",
       "      <td>Dry</td>\n",
       "      <td>NaN</td>\n",
       "      <td>Urban</td>\n",
       "      <td>NaN</td>\n",
       "      <td>Taxi/Private hire car</td>\n",
       "      <td>2019-08-26</td>\n",
       "      <td>2019</td>\n",
       "      <td>8</td>\n",
       "      <td>26</td>\n",
       "      <td>0</td>\n",
       "    </tr>\n",
       "    <tr>\n",
       "      <th>3</th>\n",
       "      <td>200701BS66128</td>\n",
       "      <td>Serious</td>\n",
       "      <td>16/08/2019</td>\n",
       "      <td>51.495478</td>\n",
       "      <td>Daylight</td>\n",
       "      <td>Kensington and Chelsea</td>\n",
       "      <td>-0.202731</td>\n",
       "      <td>1</td>\n",
       "      <td>4</td>\n",
       "      <td>Dry</td>\n",
       "      <td>Single carriageway</td>\n",
       "      <td>Urban</td>\n",
       "      <td>Fine no high winds</td>\n",
       "      <td>Bus or coach (17 or more pass seats)</td>\n",
       "      <td>2019-08-16</td>\n",
       "      <td>2019</td>\n",
       "      <td>8</td>\n",
       "      <td>16</td>\n",
       "      <td>4</td>\n",
       "    </tr>\n",
       "    <tr>\n",
       "      <th>4</th>\n",
       "      <td>200701BS66837</td>\n",
       "      <td>Slight</td>\n",
       "      <td>03/09/2019</td>\n",
       "      <td>51.488576</td>\n",
       "      <td>Darkness - lights lit</td>\n",
       "      <td>Kensington and Chelsea</td>\n",
       "      <td>-0.192487</td>\n",
       "      <td>1</td>\n",
       "      <td>2</td>\n",
       "      <td>Dry</td>\n",
       "      <td>NaN</td>\n",
       "      <td>Urban</td>\n",
       "      <td>NaN</td>\n",
       "      <td>Other vehicle</td>\n",
       "      <td>2019-09-03</td>\n",
       "      <td>2019</td>\n",
       "      <td>9</td>\n",
       "      <td>3</td>\n",
       "      <td>1</td>\n",
       "    </tr>\n",
       "    <tr>\n",
       "      <th>...</th>\n",
       "      <td>...</td>\n",
       "      <td>...</td>\n",
       "      <td>...</td>\n",
       "      <td>...</td>\n",
       "      <td>...</td>\n",
       "      <td>...</td>\n",
       "      <td>...</td>\n",
       "      <td>...</td>\n",
       "      <td>...</td>\n",
       "      <td>...</td>\n",
       "      <td>...</td>\n",
       "      <td>...</td>\n",
       "      <td>...</td>\n",
       "      <td>...</td>\n",
       "      <td>...</td>\n",
       "      <td>...</td>\n",
       "      <td>...</td>\n",
       "      <td>...</td>\n",
       "      <td>...</td>\n",
       "    </tr>\n",
       "    <tr>\n",
       "      <th>182110</th>\n",
       "      <td>2.01E+12</td>\n",
       "      <td>Slight</td>\n",
       "      <td>20/12/2019</td>\n",
       "      <td>54.985289</td>\n",
       "      <td>Darkness - no lighting</td>\n",
       "      <td>Dumfries and Galloway</td>\n",
       "      <td>-3.210294</td>\n",
       "      <td>1</td>\n",
       "      <td>1</td>\n",
       "      <td>Frost or ice</td>\n",
       "      <td>Single carriageway</td>\n",
       "      <td>Rural</td>\n",
       "      <td>Other</td>\n",
       "      <td>Car</td>\n",
       "      <td>2019-12-20</td>\n",
       "      <td>2019</td>\n",
       "      <td>12</td>\n",
       "      <td>20</td>\n",
       "      <td>4</td>\n",
       "    </tr>\n",
       "    <tr>\n",
       "      <th>182111</th>\n",
       "      <td>2.01E+12</td>\n",
       "      <td>Serious</td>\n",
       "      <td>21/12/2019</td>\n",
       "      <td>54.984105</td>\n",
       "      <td>Daylight</td>\n",
       "      <td>Dumfries and Galloway</td>\n",
       "      <td>-3.193693</td>\n",
       "      <td>2</td>\n",
       "      <td>1</td>\n",
       "      <td>Frost or ice</td>\n",
       "      <td>Single carriageway</td>\n",
       "      <td>Rural</td>\n",
       "      <td>Other</td>\n",
       "      <td>Car</td>\n",
       "      <td>2019-12-21</td>\n",
       "      <td>2019</td>\n",
       "      <td>12</td>\n",
       "      <td>21</td>\n",
       "      <td>5</td>\n",
       "    </tr>\n",
       "    <tr>\n",
       "      <th>182112</th>\n",
       "      <td>2.01E+12</td>\n",
       "      <td>Slight</td>\n",
       "      <td>23/12/2019</td>\n",
       "      <td>55.166369</td>\n",
       "      <td>Darkness - no lighting</td>\n",
       "      <td>Dumfries and Galloway</td>\n",
       "      <td>-2.992068</td>\n",
       "      <td>1</td>\n",
       "      <td>1</td>\n",
       "      <td>Frost or ice</td>\n",
       "      <td>Single carriageway</td>\n",
       "      <td>Rural</td>\n",
       "      <td>Fog or mist</td>\n",
       "      <td>Van / Goods 3.5 tonnes mgw or under</td>\n",
       "      <td>2019-12-23</td>\n",
       "      <td>2019</td>\n",
       "      <td>12</td>\n",
       "      <td>23</td>\n",
       "      <td>0</td>\n",
       "    </tr>\n",
       "    <tr>\n",
       "      <th>182113</th>\n",
       "      <td>2.01E+12</td>\n",
       "      <td>Slight</td>\n",
       "      <td>23/12/2019</td>\n",
       "      <td>54.995154</td>\n",
       "      <td>Darkness - lights lit</td>\n",
       "      <td>Dumfries and Galloway</td>\n",
       "      <td>-3.058338</td>\n",
       "      <td>1</td>\n",
       "      <td>1</td>\n",
       "      <td>Wet or damp</td>\n",
       "      <td>Single carriageway</td>\n",
       "      <td>Rural</td>\n",
       "      <td>Fine no high winds</td>\n",
       "      <td>Car</td>\n",
       "      <td>2019-12-23</td>\n",
       "      <td>2019</td>\n",
       "      <td>12</td>\n",
       "      <td>23</td>\n",
       "      <td>0</td>\n",
       "    </tr>\n",
       "    <tr>\n",
       "      <th>182114</th>\n",
       "      <td>2.01E+12</td>\n",
       "      <td>Serious</td>\n",
       "      <td>22/12/2019</td>\n",
       "      <td>55.104618</td>\n",
       "      <td>Daylight</td>\n",
       "      <td>Dumfries and Galloway</td>\n",
       "      <td>-3.348857</td>\n",
       "      <td>2</td>\n",
       "      <td>2</td>\n",
       "      <td>Frost or ice</td>\n",
       "      <td>Single carriageway</td>\n",
       "      <td>Rural</td>\n",
       "      <td>Raining no high winds</td>\n",
       "      <td>Car</td>\n",
       "      <td>2019-12-22</td>\n",
       "      <td>2019</td>\n",
       "      <td>12</td>\n",
       "      <td>22</td>\n",
       "      <td>6</td>\n",
       "    </tr>\n",
       "  </tbody>\n",
       "</table>\n",
       "<p>182115 rows × 19 columns</p>\n",
       "</div>"
      ],
      "text/plain": [
       "                Index Accident_Severity Accident Date   Latitude  \\\n",
       "0       200701BS64157           Serious    05/06/2019  51.506187   \n",
       "1       200701BS65737           Serious    02/07/2019  51.495029   \n",
       "2       200701BS66127           Serious    26/08/2019  51.517715   \n",
       "3       200701BS66128           Serious    16/08/2019  51.495478   \n",
       "4       200701BS66837            Slight    03/09/2019  51.488576   \n",
       "...               ...               ...           ...        ...   \n",
       "182110       2.01E+12            Slight    20/12/2019  54.985289   \n",
       "182111       2.01E+12           Serious    21/12/2019  54.984105   \n",
       "182112       2.01E+12            Slight    23/12/2019  55.166369   \n",
       "182113       2.01E+12            Slight    23/12/2019  54.995154   \n",
       "182114       2.01E+12           Serious    22/12/2019  55.104618   \n",
       "\n",
       "                   Light_Conditions           District Area  Longitude  \\\n",
       "0             Darkness - lights lit  Kensington and Chelsea  -0.209082   \n",
       "1                          Daylight  Kensington and Chelsea  -0.173647   \n",
       "2       Darkness - lighting unknown  Kensington and Chelsea  -0.210215   \n",
       "3                          Daylight  Kensington and Chelsea  -0.202731   \n",
       "4             Darkness - lights lit  Kensington and Chelsea  -0.192487   \n",
       "...                             ...                     ...        ...   \n",
       "182110       Darkness - no lighting   Dumfries and Galloway  -3.210294   \n",
       "182111                     Daylight   Dumfries and Galloway  -3.193693   \n",
       "182112       Darkness - no lighting   Dumfries and Galloway  -2.992068   \n",
       "182113        Darkness - lights lit   Dumfries and Galloway  -3.058338   \n",
       "182114                     Daylight   Dumfries and Galloway  -3.348857   \n",
       "\n",
       "        Number_of_Casualties  Number_of_Vehicles Road_Surface_Conditions  \\\n",
       "0                          1                   2                     Dry   \n",
       "1                          1                   2             Wet or damp   \n",
       "2                          1                   3                     Dry   \n",
       "3                          1                   4                     Dry   \n",
       "4                          1                   2                     Dry   \n",
       "...                      ...                 ...                     ...   \n",
       "182110                     1                   1            Frost or ice   \n",
       "182111                     2                   1            Frost or ice   \n",
       "182112                     1                   1            Frost or ice   \n",
       "182113                     1                   1             Wet or damp   \n",
       "182114                     2                   2            Frost or ice   \n",
       "\n",
       "                 Road_Type Urban_or_Rural_Area     Weather_Conditions  \\\n",
       "0       Single carriageway               Urban     Fine no high winds   \n",
       "1       Single carriageway               Urban  Raining no high winds   \n",
       "2                      NaN               Urban                    NaN   \n",
       "3       Single carriageway               Urban     Fine no high winds   \n",
       "4                      NaN               Urban                    NaN   \n",
       "...                    ...                 ...                    ...   \n",
       "182110  Single carriageway               Rural                  Other   \n",
       "182111  Single carriageway               Rural                  Other   \n",
       "182112  Single carriageway               Rural            Fog or mist   \n",
       "182113  Single carriageway               Rural     Fine no high winds   \n",
       "182114  Single carriageway               Rural  Raining no high winds   \n",
       "\n",
       "                                Vehicle_Type Accident_Date  Year  Month  Day  \\\n",
       "0                                        Car    2019-06-05  2019      6    5   \n",
       "1                                        Car    2019-07-02  2019      7    2   \n",
       "2                      Taxi/Private hire car    2019-08-26  2019      8   26   \n",
       "3       Bus or coach (17 or more pass seats)    2019-08-16  2019      8   16   \n",
       "4                              Other vehicle    2019-09-03  2019      9    3   \n",
       "...                                      ...           ...   ...    ...  ...   \n",
       "182110                                   Car    2019-12-20  2019     12   20   \n",
       "182111                                   Car    2019-12-21  2019     12   21   \n",
       "182112   Van / Goods 3.5 tonnes mgw or under    2019-12-23  2019     12   23   \n",
       "182113                                   Car    2019-12-23  2019     12   23   \n",
       "182114                                   Car    2019-12-22  2019     12   22   \n",
       "\n",
       "        DayOfWeek  \n",
       "0               2  \n",
       "1               1  \n",
       "2               0  \n",
       "3               4  \n",
       "4               1  \n",
       "...           ...  \n",
       "182110          4  \n",
       "182111          5  \n",
       "182112          0  \n",
       "182113          0  \n",
       "182114          6  \n",
       "\n",
       "[182115 rows x 19 columns]"
      ]
     },
     "execution_count": 19,
     "metadata": {},
     "output_type": "execute_result"
    }
   ],
   "source": [
    "df_2019"
   ]
  },
  {
   "cell_type": "markdown",
   "id": "bc832aa2-51c6-4702-80d0-dcc91e9460e0",
   "metadata": {},
   "source": [
    "<h1>Insight 5: In the record above shows the in the year 2019 has the 182115 number of accidents.</h1>"
   ]
  },
  {
   "cell_type": "markdown",
   "id": "f02cb360-ad2d-4d1e-ac86-bb1889e53480",
   "metadata": {},
   "source": [
    "<h1>Q6: What is the number of accidents every month?</h1>"
   ]
  },
  {
   "cell_type": "code",
   "execution_count": 20,
   "id": "ff564805-eed1-4a5a-8b5b-8ce144b59c15",
   "metadata": {},
   "outputs": [],
   "source": [
    "accident_per_month = accident.groupby(\"Month\").size()"
   ]
  },
  {
   "cell_type": "code",
   "execution_count": 21,
   "id": "27a0c8c2-805a-40ed-8816-5b32e5c6c472",
   "metadata": {},
   "outputs": [
    {
     "data": {
      "text/plain": [
       "Month\n",
       "1     52872\n",
       "2     49491\n",
       "3     54086\n",
       "4     51744\n",
       "5     56352\n",
       "6     56481\n",
       "7     57445\n",
       "8     53913\n",
       "9     56455\n",
       "10    59580\n",
       "11    60424\n",
       "12    51836\n",
       "dtype: int64"
      ]
     },
     "execution_count": 21,
     "metadata": {},
     "output_type": "execute_result"
    }
   ],
   "source": [
    "accident_per_month"
   ]
  },
  {
   "cell_type": "markdown",
   "id": "6c006685-67c9-4c7d-8396-66cc05dcc880",
   "metadata": {},
   "source": [
    "<h2>Insight 6: The records shown above is the number os accidents happen in uk per month which it shows that in the month ofNovember has the highest numbers of accident, while in the month of februry has the least number of accident.</h2>"
   ]
  },
  {
   "cell_type": "markdown",
   "id": "b7b2c273-e3f6-42f0-804b-af15db8301da",
   "metadata": {},
   "source": [
    "<h1>Q7: What is the total number of accidents in year 2020?</h1>"
   ]
  },
  {
   "cell_type": "code",
   "execution_count": 22,
   "id": "91f3893b-c68c-4758-94ef-24074facc058",
   "metadata": {},
   "outputs": [],
   "source": [
    "accident_2020 = accident[accident[\"Year\"] == 2020]"
   ]
  },
  {
   "cell_type": "code",
   "execution_count": 23,
   "id": "d5700cd1-ac0f-444d-a713-96333076f651",
   "metadata": {},
   "outputs": [
    {
     "data": {
      "text/html": [
       "<div>\n",
       "<style scoped>\n",
       "    .dataframe tbody tr th:only-of-type {\n",
       "        vertical-align: middle;\n",
       "    }\n",
       "\n",
       "    .dataframe tbody tr th {\n",
       "        vertical-align: top;\n",
       "    }\n",
       "\n",
       "    .dataframe thead th {\n",
       "        text-align: right;\n",
       "    }\n",
       "</style>\n",
       "<table border=\"1\" class=\"dataframe\">\n",
       "  <thead>\n",
       "    <tr style=\"text-align: right;\">\n",
       "      <th></th>\n",
       "      <th>Index</th>\n",
       "      <th>Accident_Severity</th>\n",
       "      <th>Accident Date</th>\n",
       "      <th>Latitude</th>\n",
       "      <th>Light_Conditions</th>\n",
       "      <th>District Area</th>\n",
       "      <th>Longitude</th>\n",
       "      <th>Number_of_Casualties</th>\n",
       "      <th>Number_of_Vehicles</th>\n",
       "      <th>Road_Surface_Conditions</th>\n",
       "      <th>Road_Type</th>\n",
       "      <th>Urban_or_Rural_Area</th>\n",
       "      <th>Weather_Conditions</th>\n",
       "      <th>Vehicle_Type</th>\n",
       "      <th>Accident_Date</th>\n",
       "      <th>Year</th>\n",
       "      <th>Month</th>\n",
       "      <th>Day</th>\n",
       "      <th>DayOfWeek</th>\n",
       "    </tr>\n",
       "  </thead>\n",
       "  <tbody>\n",
       "    <tr>\n",
       "      <th>182115</th>\n",
       "      <td>200801BS69439</td>\n",
       "      <td>Serious</td>\n",
       "      <td>23/01/2020</td>\n",
       "      <td>51.506812</td>\n",
       "      <td>Darkness - lights lit</td>\n",
       "      <td>Kensington and Chelsea</td>\n",
       "      <td>-0.214677</td>\n",
       "      <td>1</td>\n",
       "      <td>1</td>\n",
       "      <td>Dry</td>\n",
       "      <td>NaN</td>\n",
       "      <td>Urban</td>\n",
       "      <td>Fine no high winds</td>\n",
       "      <td>Car</td>\n",
       "      <td>2020-01-23</td>\n",
       "      <td>2020</td>\n",
       "      <td>1</td>\n",
       "      <td>23</td>\n",
       "      <td>3</td>\n",
       "    </tr>\n",
       "    <tr>\n",
       "      <th>182116</th>\n",
       "      <td>200801BS69594</td>\n",
       "      <td>Serious</td>\n",
       "      <td>15/02/2020</td>\n",
       "      <td>51.496323</td>\n",
       "      <td>Daylight</td>\n",
       "      <td>Kensington and Chelsea</td>\n",
       "      <td>-0.170138</td>\n",
       "      <td>1</td>\n",
       "      <td>1</td>\n",
       "      <td>Dry</td>\n",
       "      <td>Dual carriageway</td>\n",
       "      <td>Urban</td>\n",
       "      <td>Fine no high winds</td>\n",
       "      <td>Bus or coach (17 or more pass seats)</td>\n",
       "      <td>2020-02-15</td>\n",
       "      <td>2020</td>\n",
       "      <td>2</td>\n",
       "      <td>15</td>\n",
       "      <td>5</td>\n",
       "    </tr>\n",
       "    <tr>\n",
       "      <th>182117</th>\n",
       "      <td>200801BS69698</td>\n",
       "      <td>Serious</td>\n",
       "      <td>27/02/2020</td>\n",
       "      <td>51.502042</td>\n",
       "      <td>Darkness - lights lit</td>\n",
       "      <td>Kensington and Chelsea</td>\n",
       "      <td>-0.190946</td>\n",
       "      <td>1</td>\n",
       "      <td>1</td>\n",
       "      <td>Dry</td>\n",
       "      <td>Single carriageway</td>\n",
       "      <td>Urban</td>\n",
       "      <td>Fine no high winds</td>\n",
       "      <td>Van / Goods 3.5 tonnes mgw or under</td>\n",
       "      <td>2020-02-27</td>\n",
       "      <td>2020</td>\n",
       "      <td>2</td>\n",
       "      <td>27</td>\n",
       "      <td>3</td>\n",
       "    </tr>\n",
       "    <tr>\n",
       "      <th>182118</th>\n",
       "      <td>200801BS69935</td>\n",
       "      <td>Serious</td>\n",
       "      <td>25/02/2020</td>\n",
       "      <td>51.492733</td>\n",
       "      <td>Daylight</td>\n",
       "      <td>Kensington and Chelsea</td>\n",
       "      <td>-0.193763</td>\n",
       "      <td>1</td>\n",
       "      <td>1</td>\n",
       "      <td>Dry</td>\n",
       "      <td>Roundabout</td>\n",
       "      <td>Urban</td>\n",
       "      <td>Fine no high winds</td>\n",
       "      <td>Car</td>\n",
       "      <td>2020-02-25</td>\n",
       "      <td>2020</td>\n",
       "      <td>2</td>\n",
       "      <td>25</td>\n",
       "      <td>1</td>\n",
       "    </tr>\n",
       "    <tr>\n",
       "      <th>182119</th>\n",
       "      <td>200801BS69938</td>\n",
       "      <td>Serious</td>\n",
       "      <td>27/02/2020</td>\n",
       "      <td>51.493271</td>\n",
       "      <td>Darkness - lights lit</td>\n",
       "      <td>Kensington and Chelsea</td>\n",
       "      <td>-0.199504</td>\n",
       "      <td>1</td>\n",
       "      <td>2</td>\n",
       "      <td>Dry</td>\n",
       "      <td>Dual carriageway</td>\n",
       "      <td>Urban</td>\n",
       "      <td>Fine no high winds</td>\n",
       "      <td>Motorcycle over 500cc</td>\n",
       "      <td>2020-02-27</td>\n",
       "      <td>2020</td>\n",
       "      <td>2</td>\n",
       "      <td>27</td>\n",
       "      <td>3</td>\n",
       "    </tr>\n",
       "    <tr>\n",
       "      <th>...</th>\n",
       "      <td>...</td>\n",
       "      <td>...</td>\n",
       "      <td>...</td>\n",
       "      <td>...</td>\n",
       "      <td>...</td>\n",
       "      <td>...</td>\n",
       "      <td>...</td>\n",
       "      <td>...</td>\n",
       "      <td>...</td>\n",
       "      <td>...</td>\n",
       "      <td>...</td>\n",
       "      <td>...</td>\n",
       "      <td>...</td>\n",
       "      <td>...</td>\n",
       "      <td>...</td>\n",
       "      <td>...</td>\n",
       "      <td>...</td>\n",
       "      <td>...</td>\n",
       "      <td>...</td>\n",
       "    </tr>\n",
       "    <tr>\n",
       "      <th>352701</th>\n",
       "      <td>2.01E+12</td>\n",
       "      <td>Slight</td>\n",
       "      <td>24/11/2020</td>\n",
       "      <td>55.233969</td>\n",
       "      <td>Darkness - no lighting</td>\n",
       "      <td>Dumfries and Galloway</td>\n",
       "      <td>-3.394276</td>\n",
       "      <td>1</td>\n",
       "      <td>1</td>\n",
       "      <td>Frost or ice</td>\n",
       "      <td>Single carriageway</td>\n",
       "      <td>Rural</td>\n",
       "      <td>Fine no high winds</td>\n",
       "      <td>Minibus (8 - 16 passenger seats)</td>\n",
       "      <td>2020-11-24</td>\n",
       "      <td>2020</td>\n",
       "      <td>11</td>\n",
       "      <td>24</td>\n",
       "      <td>1</td>\n",
       "    </tr>\n",
       "    <tr>\n",
       "      <th>352702</th>\n",
       "      <td>2.01E+12</td>\n",
       "      <td>Slight</td>\n",
       "      <td>06/12/2020</td>\n",
       "      <td>54.983911</td>\n",
       "      <td>Daylight</td>\n",
       "      <td>Dumfries and Galloway</td>\n",
       "      <td>-3.195094</td>\n",
       "      <td>1</td>\n",
       "      <td>1</td>\n",
       "      <td>Frost or ice</td>\n",
       "      <td>Single carriageway</td>\n",
       "      <td>Rural</td>\n",
       "      <td>Fine no high winds</td>\n",
       "      <td>Motorcycle 125cc and under</td>\n",
       "      <td>2020-12-06</td>\n",
       "      <td>2020</td>\n",
       "      <td>12</td>\n",
       "      <td>6</td>\n",
       "      <td>6</td>\n",
       "    </tr>\n",
       "    <tr>\n",
       "      <th>352703</th>\n",
       "      <td>2.01E+12</td>\n",
       "      <td>Slight</td>\n",
       "      <td>17/12/2020</td>\n",
       "      <td>55.008072</td>\n",
       "      <td>Darkness - no lighting</td>\n",
       "      <td>Dumfries and Galloway</td>\n",
       "      <td>-3.334825</td>\n",
       "      <td>1</td>\n",
       "      <td>1</td>\n",
       "      <td>Wet or damp</td>\n",
       "      <td>Single carriageway</td>\n",
       "      <td>Rural</td>\n",
       "      <td>Fine no high winds</td>\n",
       "      <td>Motorcycle over 500cc</td>\n",
       "      <td>2020-12-17</td>\n",
       "      <td>2020</td>\n",
       "      <td>12</td>\n",
       "      <td>17</td>\n",
       "      <td>3</td>\n",
       "    </tr>\n",
       "    <tr>\n",
       "      <th>352704</th>\n",
       "      <td>2.01E+12</td>\n",
       "      <td>Slight</td>\n",
       "      <td>16/12/2020</td>\n",
       "      <td>54.986388</td>\n",
       "      <td>Daylight</td>\n",
       "      <td>Dumfries and Galloway</td>\n",
       "      <td>-3.180789</td>\n",
       "      <td>1</td>\n",
       "      <td>1</td>\n",
       "      <td>Dry</td>\n",
       "      <td>Single carriageway</td>\n",
       "      <td>Rural</td>\n",
       "      <td>Fine no high winds</td>\n",
       "      <td>Bus or coach (17 or more pass seats)</td>\n",
       "      <td>2020-12-16</td>\n",
       "      <td>2020</td>\n",
       "      <td>12</td>\n",
       "      <td>16</td>\n",
       "      <td>2</td>\n",
       "    </tr>\n",
       "    <tr>\n",
       "      <th>352705</th>\n",
       "      <td>2.01E+12</td>\n",
       "      <td>Slight</td>\n",
       "      <td>19/12/2020</td>\n",
       "      <td>55.067150</td>\n",
       "      <td>Daylight</td>\n",
       "      <td>Dumfries and Galloway</td>\n",
       "      <td>-3.403817</td>\n",
       "      <td>1</td>\n",
       "      <td>2</td>\n",
       "      <td>Frost or ice</td>\n",
       "      <td>Single carriageway</td>\n",
       "      <td>Rural</td>\n",
       "      <td>Fine no high winds</td>\n",
       "      <td>Car</td>\n",
       "      <td>2020-12-19</td>\n",
       "      <td>2020</td>\n",
       "      <td>12</td>\n",
       "      <td>19</td>\n",
       "      <td>5</td>\n",
       "    </tr>\n",
       "  </tbody>\n",
       "</table>\n",
       "<p>170591 rows × 19 columns</p>\n",
       "</div>"
      ],
      "text/plain": [
       "                Index Accident_Severity Accident Date   Latitude  \\\n",
       "182115  200801BS69439           Serious    23/01/2020  51.506812   \n",
       "182116  200801BS69594           Serious    15/02/2020  51.496323   \n",
       "182117  200801BS69698           Serious    27/02/2020  51.502042   \n",
       "182118  200801BS69935           Serious    25/02/2020  51.492733   \n",
       "182119  200801BS69938           Serious    27/02/2020  51.493271   \n",
       "...               ...               ...           ...        ...   \n",
       "352701       2.01E+12            Slight    24/11/2020  55.233969   \n",
       "352702       2.01E+12            Slight    06/12/2020  54.983911   \n",
       "352703       2.01E+12            Slight    17/12/2020  55.008072   \n",
       "352704       2.01E+12            Slight    16/12/2020  54.986388   \n",
       "352705       2.01E+12            Slight    19/12/2020  55.067150   \n",
       "\n",
       "              Light_Conditions           District Area  Longitude  \\\n",
       "182115   Darkness - lights lit  Kensington and Chelsea  -0.214677   \n",
       "182116                Daylight  Kensington and Chelsea  -0.170138   \n",
       "182117   Darkness - lights lit  Kensington and Chelsea  -0.190946   \n",
       "182118                Daylight  Kensington and Chelsea  -0.193763   \n",
       "182119   Darkness - lights lit  Kensington and Chelsea  -0.199504   \n",
       "...                        ...                     ...        ...   \n",
       "352701  Darkness - no lighting   Dumfries and Galloway  -3.394276   \n",
       "352702                Daylight   Dumfries and Galloway  -3.195094   \n",
       "352703  Darkness - no lighting   Dumfries and Galloway  -3.334825   \n",
       "352704                Daylight   Dumfries and Galloway  -3.180789   \n",
       "352705                Daylight   Dumfries and Galloway  -3.403817   \n",
       "\n",
       "        Number_of_Casualties  Number_of_Vehicles Road_Surface_Conditions  \\\n",
       "182115                     1                   1                     Dry   \n",
       "182116                     1                   1                     Dry   \n",
       "182117                     1                   1                     Dry   \n",
       "182118                     1                   1                     Dry   \n",
       "182119                     1                   2                     Dry   \n",
       "...                      ...                 ...                     ...   \n",
       "352701                     1                   1            Frost or ice   \n",
       "352702                     1                   1            Frost or ice   \n",
       "352703                     1                   1             Wet or damp   \n",
       "352704                     1                   1                     Dry   \n",
       "352705                     1                   2            Frost or ice   \n",
       "\n",
       "                 Road_Type Urban_or_Rural_Area  Weather_Conditions  \\\n",
       "182115                 NaN               Urban  Fine no high winds   \n",
       "182116    Dual carriageway               Urban  Fine no high winds   \n",
       "182117  Single carriageway               Urban  Fine no high winds   \n",
       "182118          Roundabout               Urban  Fine no high winds   \n",
       "182119    Dual carriageway               Urban  Fine no high winds   \n",
       "...                    ...                 ...                 ...   \n",
       "352701  Single carriageway               Rural  Fine no high winds   \n",
       "352702  Single carriageway               Rural  Fine no high winds   \n",
       "352703  Single carriageway               Rural  Fine no high winds   \n",
       "352704  Single carriageway               Rural  Fine no high winds   \n",
       "352705  Single carriageway               Rural  Fine no high winds   \n",
       "\n",
       "                                Vehicle_Type Accident_Date  Year  Month  Day  \\\n",
       "182115                                   Car    2020-01-23  2020      1   23   \n",
       "182116  Bus or coach (17 or more pass seats)    2020-02-15  2020      2   15   \n",
       "182117   Van / Goods 3.5 tonnes mgw or under    2020-02-27  2020      2   27   \n",
       "182118                                   Car    2020-02-25  2020      2   25   \n",
       "182119                 Motorcycle over 500cc    2020-02-27  2020      2   27   \n",
       "...                                      ...           ...   ...    ...  ...   \n",
       "352701      Minibus (8 - 16 passenger seats)    2020-11-24  2020     11   24   \n",
       "352702            Motorcycle 125cc and under    2020-12-06  2020     12    6   \n",
       "352703                 Motorcycle over 500cc    2020-12-17  2020     12   17   \n",
       "352704  Bus or coach (17 or more pass seats)    2020-12-16  2020     12   16   \n",
       "352705                                   Car    2020-12-19  2020     12   19   \n",
       "\n",
       "        DayOfWeek  \n",
       "182115          3  \n",
       "182116          5  \n",
       "182117          3  \n",
       "182118          1  \n",
       "182119          3  \n",
       "...           ...  \n",
       "352701          1  \n",
       "352702          6  \n",
       "352703          3  \n",
       "352704          2  \n",
       "352705          5  \n",
       "\n",
       "[170591 rows x 19 columns]"
      ]
     },
     "execution_count": 23,
     "metadata": {},
     "output_type": "execute_result"
    }
   ],
   "source": [
    "accident_2020"
   ]
  },
  {
   "cell_type": "markdown",
   "id": "ddedc381-eee5-4af2-ad2a-9e29dfe895eb",
   "metadata": {},
   "source": [
    "<h2>Insight 7: the total number of accident in 2020 is 170591.</h2>"
   ]
  },
  {
   "cell_type": "markdown",
   "id": "c815268a-872a-4e3c-a46f-fe3959e8028d",
   "metadata": {},
   "source": [
    "<h1>Q8: What is the total Longitude of accidents in year 2022?</h1>"
   ]
  },
  {
   "cell_type": "code",
   "execution_count": 24,
   "id": "15209306-a737-42c3-96ef-668d120f8ab8",
   "metadata": {},
   "outputs": [],
   "source": [
    "accident_2022 = accident[accident[\"Year\"] == 2022]"
   ]
  },
  {
   "cell_type": "code",
   "execution_count": 25,
   "id": "0cb0dfc9-eed5-47a3-a634-d76ad66fb021",
   "metadata": {},
   "outputs": [],
   "source": [
    "total_longitude = accident_2022[\"Longitude\"].sum()"
   ]
  },
  {
   "cell_type": "code",
   "execution_count": 26,
   "id": "a14019bf-18ee-4f1f-a8f0-16d9accc721a",
   "metadata": {},
   "outputs": [
    {
     "data": {
      "text/plain": [
       "np.float64(-183231.037942)"
      ]
     },
     "execution_count": 26,
     "metadata": {},
     "output_type": "execute_result"
    }
   ],
   "source": [
    "total_longitude"
   ]
  },
  {
   "cell_type": "markdown",
   "id": "590d521d-9aee-44c0-8980-7a7472795593",
   "metadata": {},
   "source": [
    "<h2>Insight 8: The total longitutude in year 2022 is -183231.037942</h2>"
   ]
  },
  {
   "cell_type": "markdown",
   "id": "1dbc203e-9cf9-41ca-9afe-7251ea9352db",
   "metadata": {},
   "source": [
    "<h1>Q9: What is the total latitude in year 2021?</h1>"
   ]
  },
  {
   "cell_type": "code",
   "execution_count": 27,
   "id": "86526949-4065-4f83-9098-dc9e115a610a",
   "metadata": {},
   "outputs": [],
   "source": [
    "accident_2021 = accident[accident[\"Year\"] == 2021]"
   ]
  },
  {
   "cell_type": "code",
   "execution_count": 28,
   "id": "af389c7f-d81b-4923-ad9c-a26d2d3ecd30",
   "metadata": {},
   "outputs": [],
   "source": [
    "total_latitude = accident_2021[\"Longitude\"].sum()"
   ]
  },
  {
   "cell_type": "code",
   "execution_count": 29,
   "id": "715a90ec-0ef2-4389-92d2-80f6ac050bb9",
   "metadata": {},
   "outputs": [
    {
     "data": {
      "text/plain": [
       "np.float64(-238348.30400200002)"
      ]
     },
     "execution_count": 29,
     "metadata": {},
     "output_type": "execute_result"
    }
   ],
   "source": [
    "total_latitude"
   ]
  },
  {
   "cell_type": "markdown",
   "id": "012e26c7-c6ae-430d-b11a-41b04178a4a4",
   "metadata": {},
   "source": [
    "<h2>Insight 9: Based in the Record show above the total latitude in year 2021 is -238348.30400200002.</h2>"
   ]
  },
  {
   "cell_type": "markdown",
   "id": "6742494f-90a5-4900-9c0b-73f02b41c5ee",
   "metadata": {},
   "source": [
    "<H1>Q10: What is the district Area that most often gets into an accident?</H1>"
   ]
  },
  {
   "cell_type": "code",
   "execution_count": 30,
   "id": "520cd43a-1b30-47c2-b152-4657383af9b3",
   "metadata": {},
   "outputs": [],
   "source": [
    "accident_per_district = accident.groupby(\"District Area\").size()"
   ]
  },
  {
   "cell_type": "code",
   "execution_count": 31,
   "id": "c627a57f-a0cb-4333-9c0b-ad2ab1877577",
   "metadata": {},
   "outputs": [
    {
     "data": {
      "text/plain": [
       "District Area\n",
       "Aberdeen City    1323\n",
       "Aberdeenshire    1930\n",
       "Adur              619\n",
       "Allerdale        1128\n",
       "Alnwick           232\n",
       "                 ... \n",
       "Wychavon         1361\n",
       "Wycombe          1729\n",
       "Wyre             1238\n",
       "Wyre Forest       969\n",
       "York             1897\n",
       "Length: 422, dtype: int64"
      ]
     },
     "execution_count": 31,
     "metadata": {},
     "output_type": "execute_result"
    }
   ],
   "source": [
    "accident_per_district"
   ]
  },
  {
   "cell_type": "markdown",
   "id": "288bb515-9dd7-4cdf-af84-1262e0d1b574",
   "metadata": {},
   "source": [
    "<h2>Insight 10: It show in data above that the district area most gets into accidents is Aberdeenshire.</h2>"
   ]
  },
  {
   "cell_type": "markdown",
   "id": "ea657ef4-2070-41e2-9956-cd0ec063835d",
   "metadata": {},
   "source": [
    "<h1>Q11: What is the total number of accidents in rural and urban place in uk?</h1>"
   ]
  },
  {
   "cell_type": "code",
   "execution_count": 32,
   "id": "38cb4f10-c2b6-4751-960b-e4ab8d053b86",
   "metadata": {},
   "outputs": [],
   "source": [
    "accident_df = accident.groupby(\"Urban_or_Rural_Area\").size()"
   ]
  },
  {
   "cell_type": "code",
   "execution_count": 33,
   "id": "4e67deaa-e101-4226-8c40-506fa47193d1",
   "metadata": {},
   "outputs": [
    {
     "data": {
      "text/plain": [
       "Urban_or_Rural_Area\n",
       "Rural          238990\n",
       "Unallocated        11\n",
       "Urban          421663\n",
       "dtype: int64"
      ]
     },
     "execution_count": 33,
     "metadata": {},
     "output_type": "execute_result"
    }
   ],
   "source": [
    "accident_df"
   ]
  },
  {
   "cell_type": "markdown",
   "id": "ce0c1758-bacd-47b7-af71-4646dba126cf",
   "metadata": {},
   "source": [
    "<h2>Insight 11: The number of accidents in rural is 238990 and in urban is 421663.</h2>"
   ]
  },
  {
   "cell_type": "markdown",
   "id": "e2a4e389-5938-4a93-a816-b01819be966e",
   "metadata": {},
   "source": [
    "<h1>Q12: What is the common road type in uk gets into an accident?</h1>"
   ]
  },
  {
   "cell_type": "code",
   "execution_count": 34,
   "id": "4990cafd-fac0-4340-aed7-12bac87ee192",
   "metadata": {},
   "outputs": [],
   "source": [
    "road_df = accident.groupby(\"Road_Type\").size()"
   ]
  },
  {
   "cell_type": "code",
   "execution_count": 35,
   "id": "eec7e30b-014a-48d4-bd74-7d0fc910b53e",
   "metadata": {},
   "outputs": [
    {
     "data": {
      "text/plain": [
       "Road_Type\n",
       "Dual carriageway       99424\n",
       "One way street         13559\n",
       "Roundabout             43992\n",
       "Single carriageway    492143\n",
       "Slip road               7041\n",
       "dtype: int64"
      ]
     },
     "execution_count": 35,
     "metadata": {},
     "output_type": "execute_result"
    }
   ],
   "source": [
    "road_df"
   ]
  },
  {
   "cell_type": "markdown",
   "id": "a51281c7-57de-4831-8c31-0c70013ad39f",
   "metadata": {},
   "source": [
    "<h2>Insight 12: The Common road type in uk gets into an accidents is Single carriageway.</h2>"
   ]
  },
  {
   "cell_type": "markdown",
   "id": "884d6a4d-fb5d-4caf-a435-a26386f90d64",
   "metadata": {},
   "source": [
    "<h1>Q13: In what common Road surface vehicles gets in to an accidents?</h1>"
   ]
  },
  {
   "cell_type": "code",
   "execution_count": 36,
   "id": "b069fffa-ffdd-4590-9f8c-b89ebfa53b6b",
   "metadata": {},
   "outputs": [],
   "source": [
    "surf_df = accident['Road_Surface_Conditions'].value_counts()"
   ]
  },
  {
   "cell_type": "code",
   "execution_count": 37,
   "id": "b0a1d919-a747-4447-80d6-d77e78a312c0",
   "metadata": {},
   "outputs": [
    {
     "data": {
      "text/plain": [
       "Road_Surface_Conditions\n",
       "Dry                     447821\n",
       "Wet or damp             186708\n",
       "Frost or ice             18517\n",
       "Snow                      5890\n",
       "Flood over 3cm. deep      1017\n",
       "Name: count, dtype: int64"
      ]
     },
     "execution_count": 37,
     "metadata": {},
     "output_type": "execute_result"
    }
   ],
   "source": [
    "surf_df"
   ]
  },
  {
   "cell_type": "markdown",
   "id": "a917cb0e-f825-4db9-afca-98890b2c883d",
   "metadata": {},
   "source": [
    "<h2>Insight 13: Most of the vehicle accidents in a Dry Road</h2>"
   ]
  },
  {
   "cell_type": "markdown",
   "id": "74b3ec69-b5ac-4785-895c-f4348f18c908",
   "metadata": {},
   "source": [
    "<h1>Q14: What is the overall number of Vehicles that gets into an accidents? </h1>"
   ]
  },
  {
   "cell_type": "code",
   "execution_count": 38,
   "id": "db7c9241-6f20-4176-8710-0fded69185a5",
   "metadata": {},
   "outputs": [],
   "source": [
    "overall_df = accident['Number_of_Vehicles'].sum()"
   ]
  },
  {
   "cell_type": "code",
   "execution_count": 39,
   "id": "fdf47975-0f11-4cf5-be27-41731aa69fdb",
   "metadata": {},
   "outputs": [
    {
     "data": {
      "text/plain": [
       "np.int64(1209872)"
      ]
     },
     "execution_count": 39,
     "metadata": {},
     "output_type": "execute_result"
    }
   ],
   "source": [
    "overall_df"
   ]
  },
  {
   "cell_type": "markdown",
   "id": "b97d3336-cd96-4b4e-8abf-9c77a0cd56e2",
   "metadata": {},
   "source": [
    "<h2>Insight 14: The Overall number of Vehicles that gets into an accidents is 1209872</h2>"
   ]
  },
  {
   "cell_type": "markdown",
   "id": "000c4f98-6e5b-4d17-8695-b7e982ce65a9",
   "metadata": {},
   "source": [
    "<h1>Q15: What is the average number of casualties per accident?</h1>"
   ]
  },
  {
   "cell_type": "code",
   "execution_count": 40,
   "id": "3e8188b2-ba06-48ae-938d-778872e3eb3a",
   "metadata": {},
   "outputs": [
    {
     "data": {
      "text/plain": [
       "np.float64(1.357040257068864)"
      ]
     },
     "execution_count": 40,
     "metadata": {},
     "output_type": "execute_result"
    }
   ],
   "source": [
    "accident['Number_of_Casualties'].mean()"
   ]
  },
  {
   "cell_type": "markdown",
   "id": "02df1c8e-1be2-4e2d-a210-d55535ad5577",
   "metadata": {},
   "source": [
    "<h2>Insight 15: The data shows that the number of casualties per accident is 1.357040257068864. </h2>"
   ]
  },
  {
   "cell_type": "markdown",
   "id": "5cbd602a-d9eb-4af6-ab73-a60a3e8548d5",
   "metadata": {},
   "source": [
    "<h1>Q16: What is the median number of vehicles involved in accidents?</h1>"
   ]
  },
  {
   "cell_type": "code",
   "execution_count": 41,
   "id": "7cfe67e7-3198-41ea-b608-6f268b299b90",
   "metadata": {},
   "outputs": [
    {
     "data": {
      "text/plain": [
       "np.float64(2.0)"
      ]
     },
     "execution_count": 41,
     "metadata": {},
     "output_type": "execute_result"
    }
   ],
   "source": [
    "accident['Number_of_Vehicles'].median()"
   ]
  },
  {
   "cell_type": "markdown",
   "id": "ab9cb62e-f127-4edd-89e9-a027e0c939bc",
   "metadata": {},
   "source": [
    "<h2>Insight 16: The median number of vehicles involved in accidents is 2.0 .</h2>"
   ]
  },
  {
   "cell_type": "markdown",
   "id": "b536013b-04a8-4ad5-91c9-106b636cb189",
   "metadata": {},
   "source": [
    "<h1>Q17: What is the most common accident severity?</h1>"
   ]
  },
  {
   "cell_type": "code",
   "execution_count": 42,
   "id": "f4d50aff-7640-491e-8da4-7445258dfd09",
   "metadata": {},
   "outputs": [
    {
     "data": {
      "text/plain": [
       "0    Slight\n",
       "Name: Accident_Severity, dtype: object"
      ]
     },
     "execution_count": 42,
     "metadata": {},
     "output_type": "execute_result"
    }
   ],
   "source": [
    "accident['Accident_Severity'].mode()"
   ]
  },
  {
   "cell_type": "markdown",
   "id": "563e7434-f4d5-428b-ace1-1e349f1eb50c",
   "metadata": {},
   "source": [
    "<h2>Insight 17: The most common accident severity in uk is slight.</h2>"
   ]
  },
  {
   "cell_type": "markdown",
   "id": "1c7aae92-b2a2-4161-b724-7ee1e482ceed",
   "metadata": {},
   "source": [
    "<h1>Q18: How many fatal accidents are there?</h1>"
   ]
  },
  {
   "cell_type": "code",
   "execution_count": 43,
   "id": "167f268b-820c-4904-8310-89f83da1f0f7",
   "metadata": {},
   "outputs": [
    {
     "data": {
      "text/plain": [
       "np.int64(8661)"
      ]
     },
     "execution_count": 43,
     "metadata": {},
     "output_type": "execute_result"
    }
   ],
   "source": [
    "(accident['Accident_Severity'] == 'Fatal').sum()"
   ]
  },
  {
   "cell_type": "markdown",
   "id": "9844e9f7-b71f-4130-8bad-88e182f0a9f0",
   "metadata": {},
   "source": [
    "<h2>Insight 18: The fatal accidents in the uk is number of 8661.</h2>"
   ]
  },
  {
   "cell_type": "markdown",
   "id": "458f488d-0838-420c-b4fe-792302595c49",
   "metadata": {},
   "source": [
    "<h1>Q19: What are the top 5 weather conditions reported in accidents?</h1>"
   ]
  },
  {
   "cell_type": "code",
   "execution_count": 44,
   "id": "2c32d84c-dff4-4f15-9684-a52a632eb012",
   "metadata": {},
   "outputs": [
    {
     "data": {
      "text/plain": [
       "Weather_Conditions\n",
       "Fine no high winds       520885\n",
       "Raining no high winds     79696\n",
       "Other                     17150\n",
       "Raining + high winds       9615\n",
       "Fine + high winds          8554\n",
       "Name: count, dtype: int64"
      ]
     },
     "execution_count": 44,
     "metadata": {},
     "output_type": "execute_result"
    }
   ],
   "source": [
    "accident['Weather_Conditions'].value_counts().head(5)"
   ]
  },
  {
   "cell_type": "markdown",
   "id": "4246828d-4afa-4b97-aa4f-d33630a8aa18",
   "metadata": {},
   "source": [
    "<h2>Insight 19: This data shows the top five weather conditions reported in uk that sometimes may cause an accidents.</h2>"
   ]
  },
  {
   "cell_type": "markdown",
   "id": "944bbf9a-ca3a-450d-9f1d-1cde7207c4fc",
   "metadata": {},
   "source": [
    "<h1>Q20: What is the total number of vehicles involved in all accidents?</h1>"
   ]
  },
  {
   "cell_type": "code",
   "execution_count": 45,
   "id": "5b7ea067-bd8a-4400-9723-2bf620ebfcba",
   "metadata": {},
   "outputs": [
    {
     "data": {
      "text/plain": [
       "np.int64(1209872)"
      ]
     },
     "execution_count": 45,
     "metadata": {},
     "output_type": "execute_result"
    }
   ],
   "source": [
    "accident['Number_of_Vehicles'].sum()"
   ]
  },
  {
   "cell_type": "markdown",
   "id": "38a055b9-78e4-447e-a7d3-23fce5c9d825",
   "metadata": {},
   "source": [
    "<h2>Insight 20: The total number of vehicles involved in all accident in uk is 1209872.</h2>"
   ]
  },
  {
   "cell_type": "markdown",
   "id": "8d4851bd-652d-4380-9e5e-492296f00a5f",
   "metadata": {},
   "source": [
    "<h1>Q21: What is the average number of vehicles involved in accidents?</h1>"
   ]
  },
  {
   "cell_type": "code",
   "execution_count": 46,
   "id": "7b8b4b21-5baf-410d-9558-a91c9ef6eb6b",
   "metadata": {},
   "outputs": [
    {
     "data": {
      "text/plain": [
       "np.float64(1.8312554205597575)"
      ]
     },
     "execution_count": 46,
     "metadata": {},
     "output_type": "execute_result"
    }
   ],
   "source": [
    "accident['Number_of_Vehicles'].mean()"
   ]
  },
  {
   "cell_type": "markdown",
   "id": "92194d1b-f194-4f73-a141-152856f7571c",
   "metadata": {},
   "source": [
    "<h2>Insight 21: It shows that the average number of vehicles involve in accident is 1.8312554205597575. </h2>"
   ]
  },
  {
   "cell_type": "markdown",
   "id": "b4bd2a14-30b1-46db-a906-6a9ca5d9d44d",
   "metadata": {},
   "source": [
    "<h1>Q22: What is the median number of casualties per accident?</h1>"
   ]
  },
  {
   "cell_type": "code",
   "execution_count": 47,
   "id": "680d1763-3a5f-4223-8632-c3ccec4ac63f",
   "metadata": {},
   "outputs": [
    {
     "data": {
      "text/plain": [
       "np.float64(1.0)"
      ]
     },
     "execution_count": 47,
     "metadata": {},
     "output_type": "execute_result"
    }
   ],
   "source": [
    "accident['Number_of_Casualties'].median()"
   ]
  },
  {
   "cell_type": "markdown",
   "id": "00581a16-4f5c-4e85-8ec1-c7d86b15336c",
   "metadata": {},
   "source": [
    "<h2>Insight 22: The median number of casualties per accidents is 1.0 .</h2>"
   ]
  },
  {
   "cell_type": "markdown",
   "id": "3c3764f4-eaa3-4e7d-a55a-5ab78d0e765b",
   "metadata": {},
   "source": [
    "<h1>Q23: What is the most common road surface condition?</h1>"
   ]
  },
  {
   "cell_type": "code",
   "execution_count": 48,
   "id": "aeb71e2a-9170-4bad-a082-62d184e93cca",
   "metadata": {},
   "outputs": [
    {
     "data": {
      "text/plain": [
       "0    Dry\n",
       "Name: Road_Surface_Conditions, dtype: object"
      ]
     },
     "execution_count": 48,
     "metadata": {},
     "output_type": "execute_result"
    }
   ],
   "source": [
    "accident['Road_Surface_Conditions'].mode()"
   ]
  },
  {
   "cell_type": "markdown",
   "id": "b6395d73-d5f7-4d33-89fa-66138388cb80",
   "metadata": {},
   "source": [
    "<h2>Insight 23: The most common road surface condition is Dry. </h2>"
   ]
  },
  {
   "cell_type": "markdown",
   "id": "582a25e1-3ab1-474d-bd2c-94c1c8b58689",
   "metadata": {},
   "source": [
    "<h1>Q24: How many accidents happened during daylight?</h1>"
   ]
  },
  {
   "cell_type": "code",
   "execution_count": 49,
   "id": "c6cf6440-801d-4e58-8be1-af3003415d49",
   "metadata": {},
   "outputs": [
    {
     "data": {
      "text/plain": [
       "np.int64(484880)"
      ]
     },
     "execution_count": 49,
     "metadata": {},
     "output_type": "execute_result"
    }
   ],
   "source": [
    "(accident['Light_Conditions'] == 'Daylight').sum()"
   ]
  },
  {
   "cell_type": "markdown",
   "id": "c95aa506-8227-4352-b343-28852ad339a0",
   "metadata": {},
   "source": [
    "<h2>Insight 24: The number of Accidents happens in Daylight is 484880 .</h2>"
   ]
  },
  {
   "cell_type": "markdown",
   "id": "b6aee670-60cb-4d81-a5e8-ea2ee183adef",
   "metadata": {},
   "source": [
    "<h1>Q25: What is the most common district where accidents occurred?</h1>"
   ]
  },
  {
   "cell_type": "code",
   "execution_count": 50,
   "id": "bdf5861e-dd79-45a2-8078-ce0e93df6102",
   "metadata": {},
   "outputs": [
    {
     "data": {
      "text/plain": [
       "0    Birmingham\n",
       "Name: District Area, dtype: object"
      ]
     },
     "execution_count": 50,
     "metadata": {},
     "output_type": "execute_result"
    }
   ],
   "source": [
    "accident['District Area'].mode()"
   ]
  },
  {
   "cell_type": "markdown",
   "id": "3a2cd18e-4ebd-4726-8af5-3933902c5621",
   "metadata": {},
   "source": [
    "<h2>Insight 25: The info shows that the another common district where accidents is Birmingham. </h2>"
   ]
  },
  {
   "cell_type": "markdown",
   "id": "e0ee44b6-b2d5-465b-aea1-4932ab80e688",
   "metadata": {},
   "source": [
    "<hr></hr>"
   ]
  },
  {
   "cell_type": "markdown",
   "id": "17a8a686-a75c-44fa-beef-6a23b26c23e4",
   "metadata": {},
   "source": [
    "<h1>Visualizations</h1>"
   ]
  },
  {
   "cell_type": "code",
   "execution_count": 51,
   "id": "c3328e43-1bda-448d-a26d-30a1ce341697",
   "metadata": {},
   "outputs": [
    {
     "data": {
      "text/plain": [
       "<Axes: xlabel='Year'>"
      ]
     },
     "execution_count": 51,
     "metadata": {},
     "output_type": "execute_result"
    },
    {
     "data": {
      "image/png": "[encoded data removed]",
      "text/plain": [
       "<Figure size 640x480 with 1 Axes>"
      ]
     },
     "metadata": {},
     "output_type": "display_data"
    }
   ],
   "source": [
    "import matplotlib.pyplot as plt\n",
    "accident.groupby(['Year'])['Index'].count().plot(kind='bar')"
   ]
  },
  {
   "cell_type": "code",
   "execution_count": 52,
   "id": "82fbf595-31bb-4d97-99c2-127eefe26b82",
   "metadata": {},
   "outputs": [],
   "source": [
    "monthly_date = accident.groupby(['Year','Month'])['Index'].count()"
   ]
  },
  {
   "cell_type": "code",
   "execution_count": 53,
   "id": "50e3743f-7d40-4b78-9167-e63b377d90c2",
   "metadata": {},
   "outputs": [
    {
     "data": {
      "text/html": [
       "<div>\n",
       "<style scoped>\n",
       "    .dataframe tbody tr th:only-of-type {\n",
       "        vertical-align: middle;\n",
       "    }\n",
       "\n",
       "    .dataframe tbody tr th {\n",
       "        vertical-align: top;\n",
       "    }\n",
       "\n",
       "    .dataframe thead th {\n",
       "        text-align: right;\n",
       "    }\n",
       "</style>\n",
       "<table border=\"1\" class=\"dataframe\">\n",
       "  <thead>\n",
       "    <tr style=\"text-align: right;\">\n",
       "      <th>Month</th>\n",
       "      <th>1</th>\n",
       "      <th>2</th>\n",
       "      <th>3</th>\n",
       "      <th>4</th>\n",
       "      <th>5</th>\n",
       "      <th>6</th>\n",
       "      <th>7</th>\n",
       "      <th>8</th>\n",
       "      <th>9</th>\n",
       "      <th>10</th>\n",
       "      <th>11</th>\n",
       "      <th>12</th>\n",
       "    </tr>\n",
       "    <tr>\n",
       "      <th>Year</th>\n",
       "      <th></th>\n",
       "      <th></th>\n",
       "      <th></th>\n",
       "      <th></th>\n",
       "      <th></th>\n",
       "      <th></th>\n",
       "      <th></th>\n",
       "      <th></th>\n",
       "      <th></th>\n",
       "      <th></th>\n",
       "      <th></th>\n",
       "      <th></th>\n",
       "    </tr>\n",
       "  </thead>\n",
       "  <tbody>\n",
       "    <tr>\n",
       "      <th>2019</th>\n",
       "      <td>15355</td>\n",
       "      <td>13253</td>\n",
       "      <td>15049</td>\n",
       "      <td>14125</td>\n",
       "      <td>15833</td>\n",
       "      <td>15528</td>\n",
       "      <td>15862</td>\n",
       "      <td>15044</td>\n",
       "      <td>15271</td>\n",
       "      <td>15528</td>\n",
       "      <td>16559</td>\n",
       "      <td>14708</td>\n",
       "    </tr>\n",
       "    <tr>\n",
       "      <th>2020</th>\n",
       "      <td>14133</td>\n",
       "      <td>14353</td>\n",
       "      <td>13494</td>\n",
       "      <td>13394</td>\n",
       "      <td>14336</td>\n",
       "      <td>14205</td>\n",
       "      <td>14630</td>\n",
       "      <td>13366</td>\n",
       "      <td>14432</td>\n",
       "      <td>15684</td>\n",
       "      <td>14770</td>\n",
       "      <td>13794</td>\n",
       "    </tr>\n",
       "    <tr>\n",
       "      <th>2021</th>\n",
       "      <td>13417</td>\n",
       "      <td>10950</td>\n",
       "      <td>13202</td>\n",
       "      <td>12715</td>\n",
       "      <td>13811</td>\n",
       "      <td>13936</td>\n",
       "      <td>14300</td>\n",
       "      <td>13415</td>\n",
       "      <td>13792</td>\n",
       "      <td>14834</td>\n",
       "      <td>15473</td>\n",
       "      <td>13709</td>\n",
       "    </tr>\n",
       "    <tr>\n",
       "      <th>2022</th>\n",
       "      <td>9967</td>\n",
       "      <td>10935</td>\n",
       "      <td>12341</td>\n",
       "      <td>11510</td>\n",
       "      <td>12372</td>\n",
       "      <td>12812</td>\n",
       "      <td>12653</td>\n",
       "      <td>12088</td>\n",
       "      <td>12960</td>\n",
       "      <td>13534</td>\n",
       "      <td>13622</td>\n",
       "      <td>9625</td>\n",
       "    </tr>\n",
       "  </tbody>\n",
       "</table>\n",
       "</div>"
      ],
      "text/plain": [
       "Month     1      2      3      4      5      6      7      8      9      10  \\\n",
       "Year                                                                          \n",
       "2019   15355  13253  15049  14125  15833  15528  15862  15044  15271  15528   \n",
       "2020   14133  14353  13494  13394  14336  14205  14630  13366  14432  15684   \n",
       "2021   13417  10950  13202  12715  13811  13936  14300  13415  13792  14834   \n",
       "2022    9967  10935  12341  11510  12372  12812  12653  12088  12960  13534   \n",
       "\n",
       "Month     11     12  \n",
       "Year                 \n",
       "2019   16559  14708  \n",
       "2020   14770  13794  \n",
       "2021   15473  13709  \n",
       "2022   13622   9625  "
      ]
     },
     "execution_count": 53,
     "metadata": {},
     "output_type": "execute_result"
    }
   ],
   "source": [
    "monthly_date.unstack()"
   ]
  },
  {
   "cell_type": "code",
   "execution_count": 54,
   "id": "7c28e796-e99a-4298-9d2c-c87b80a166fa",
   "metadata": {},
   "outputs": [
    {
     "data": {
      "image/png": "[encoded data removed]",
      "text/plain": [
       "<Figure size 640x480 with 1 Axes>"
      ]
     },
     "metadata": {},
     "output_type": "display_data"
    }
   ],
   "source": [
    "import matplotlib.pyplot as plt\n",
    "monthly_date.unstack().plot(kind='bar')\n",
    "plt.show()"
   ]
  },
  {
   "cell_type": "code",
   "execution_count": 55,
   "id": "81de3afd-c0a1-4459-9d1a-2185215985fa",
   "metadata": {},
   "outputs": [
    {
     "data": {
      "image/png": "[encoded data removed]",
      "text/plain": [
       "<Figure size 1000x500 with 1 Axes>"
      ]
     },
     "metadata": {},
     "output_type": "display_data"
    }
   ],
   "source": [
    "import matplotlib.pyplot as plt\n",
    "\n",
    "monthly_data = accident.groupby(['Year', 'Month']).count()\n",
    "monthly_data = monthly_data.unstack(level=0)\n",
    "monthly_data.plot(\n",
    "    marker='o',\n",
    "    figsize=(10, 5),\n",
    "    title='Monthly Road Accidents by Year (2019-2022)'\n",
    ")\n",
    "plt.xticks(range(1, 13),['Jan','Feb','Mar','Apr','may','Jun','Jul','Aug','Sept','Oct','Nov','Dec'])\n",
    "plt.grid(alpha=0.3)\n",
    "plt.show()"
   ]
  },
  {
   "cell_type": "code",
   "execution_count": 56,
   "id": "ea86fe90-366e-4e07-a983-f4fb4342e11a",
   "metadata": {},
   "outputs": [],
   "source": [
    "london_fatal = accident[(accident['Accident_Severity'] == 'Fatal') & (accident['District Area'] == 'City of London')]"
   ]
  },
  {
   "cell_type": "code",
   "execution_count": 57,
   "id": "4bfe2378-10be-46a9-9135-54a65229ab42",
   "metadata": {},
   "outputs": [
    {
     "data": {
      "text/html": [
       "<div>\n",
       "<style scoped>\n",
       "    .dataframe tbody tr th:only-of-type {\n",
       "        vertical-align: middle;\n",
       "    }\n",
       "\n",
       "    .dataframe tbody tr th {\n",
       "        vertical-align: top;\n",
       "    }\n",
       "\n",
       "    .dataframe thead th {\n",
       "        text-align: right;\n",
       "    }\n",
       "</style>\n",
       "<table border=\"1\" class=\"dataframe\">\n",
       "  <thead>\n",
       "    <tr style=\"text-align: right;\">\n",
       "      <th></th>\n",
       "      <th>Index</th>\n",
       "      <th>Accident_Severity</th>\n",
       "      <th>Accident Date</th>\n",
       "      <th>Latitude</th>\n",
       "      <th>Light_Conditions</th>\n",
       "      <th>District Area</th>\n",
       "      <th>Longitude</th>\n",
       "      <th>Number_of_Casualties</th>\n",
       "      <th>Number_of_Vehicles</th>\n",
       "      <th>Road_Surface_Conditions</th>\n",
       "      <th>Road_Type</th>\n",
       "      <th>Urban_or_Rural_Area</th>\n",
       "      <th>Weather_Conditions</th>\n",
       "      <th>Vehicle_Type</th>\n",
       "      <th>Accident_Date</th>\n",
       "      <th>Year</th>\n",
       "      <th>Month</th>\n",
       "      <th>Day</th>\n",
       "      <th>DayOfWeek</th>\n",
       "    </tr>\n",
       "  </thead>\n",
       "  <tbody>\n",
       "    <tr>\n",
       "      <th>717</th>\n",
       "      <td>200701CP00032</td>\n",
       "      <td>Fatal</td>\n",
       "      <td>30/01/2019</td>\n",
       "      <td>51.510978</td>\n",
       "      <td>Daylight</td>\n",
       "      <td>City of London</td>\n",
       "      <td>-0.107581</td>\n",
       "      <td>1</td>\n",
       "      <td>2</td>\n",
       "      <td>Wet or damp</td>\n",
       "      <td>Dual carriageway</td>\n",
       "      <td>Urban</td>\n",
       "      <td>Fine no high winds</td>\n",
       "      <td>Car</td>\n",
       "      <td>2019-01-30</td>\n",
       "      <td>2019</td>\n",
       "      <td>1</td>\n",
       "      <td>30</td>\n",
       "      <td>2</td>\n",
       "    </tr>\n",
       "    <tr>\n",
       "      <th>997</th>\n",
       "      <td>200701CP00318</td>\n",
       "      <td>Fatal</td>\n",
       "      <td>19/11/2019</td>\n",
       "      <td>51.516045</td>\n",
       "      <td>Darkness - lights lit</td>\n",
       "      <td>City of London</td>\n",
       "      <td>-0.081859</td>\n",
       "      <td>7</td>\n",
       "      <td>2</td>\n",
       "      <td>Wet or damp</td>\n",
       "      <td>Dual carriageway</td>\n",
       "      <td>Urban</td>\n",
       "      <td>Raining no high winds</td>\n",
       "      <td>Motorcycle over 500cc</td>\n",
       "      <td>2019-11-19</td>\n",
       "      <td>2019</td>\n",
       "      <td>11</td>\n",
       "      <td>19</td>\n",
       "      <td>1</td>\n",
       "    </tr>\n",
       "    <tr>\n",
       "      <th>183074</th>\n",
       "      <td>200801CP00222</td>\n",
       "      <td>Fatal</td>\n",
       "      <td>18/09/2020</td>\n",
       "      <td>51.510836</td>\n",
       "      <td>Daylight</td>\n",
       "      <td>City of London</td>\n",
       "      <td>-0.093319</td>\n",
       "      <td>1</td>\n",
       "      <td>2</td>\n",
       "      <td>Dry</td>\n",
       "      <td>Dual carriageway</td>\n",
       "      <td>Urban</td>\n",
       "      <td>Fine no high winds</td>\n",
       "      <td>Car</td>\n",
       "      <td>2020-09-18</td>\n",
       "      <td>2020</td>\n",
       "      <td>9</td>\n",
       "      <td>18</td>\n",
       "      <td>4</td>\n",
       "    </tr>\n",
       "    <tr>\n",
       "      <th>183146</th>\n",
       "      <td>200801CP00295</td>\n",
       "      <td>Fatal</td>\n",
       "      <td>28/11/2020</td>\n",
       "      <td>51.518081</td>\n",
       "      <td>Darkness - lights lit</td>\n",
       "      <td>City of London</td>\n",
       "      <td>-0.079900</td>\n",
       "      <td>1</td>\n",
       "      <td>1</td>\n",
       "      <td>Wet or damp</td>\n",
       "      <td>Single carriageway</td>\n",
       "      <td>Urban</td>\n",
       "      <td>Fine no high winds</td>\n",
       "      <td>Car</td>\n",
       "      <td>2020-11-28</td>\n",
       "      <td>2020</td>\n",
       "      <td>11</td>\n",
       "      <td>28</td>\n",
       "      <td>5</td>\n",
       "    </tr>\n",
       "    <tr>\n",
       "      <th>353392</th>\n",
       "      <td>200901CP00040</td>\n",
       "      <td>Fatal</td>\n",
       "      <td>24/04/2021</td>\n",
       "      <td>51.509631</td>\n",
       "      <td>Daylight</td>\n",
       "      <td>City of London</td>\n",
       "      <td>-0.085587</td>\n",
       "      <td>2</td>\n",
       "      <td>1</td>\n",
       "      <td>Dry</td>\n",
       "      <td>Single carriageway</td>\n",
       "      <td>Urban</td>\n",
       "      <td>Fine no high winds</td>\n",
       "      <td>Car</td>\n",
       "      <td>2021-04-24</td>\n",
       "      <td>2021</td>\n",
       "      <td>4</td>\n",
       "      <td>24</td>\n",
       "      <td>5</td>\n",
       "    </tr>\n",
       "    <tr>\n",
       "      <th>368287</th>\n",
       "      <td>200901TB00089</td>\n",
       "      <td>Fatal</td>\n",
       "      <td>12/06/2021</td>\n",
       "      <td>51.517812</td>\n",
       "      <td>Daylight</td>\n",
       "      <td>City of London</td>\n",
       "      <td>-0.107586</td>\n",
       "      <td>1</td>\n",
       "      <td>2</td>\n",
       "      <td>Dry</td>\n",
       "      <td>Roundabout</td>\n",
       "      <td>Urban</td>\n",
       "      <td>Fine no high winds</td>\n",
       "      <td>Car</td>\n",
       "      <td>2021-06-12</td>\n",
       "      <td>2021</td>\n",
       "      <td>6</td>\n",
       "      <td>12</td>\n",
       "      <td>5</td>\n",
       "    </tr>\n",
       "    <tr>\n",
       "      <th>517269</th>\n",
       "      <td>201001CP00342</td>\n",
       "      <td>Fatal</td>\n",
       "      <td>17/08/2022</td>\n",
       "      <td>51.515808</td>\n",
       "      <td>Daylight</td>\n",
       "      <td>City of London</td>\n",
       "      <td>-0.089364</td>\n",
       "      <td>1</td>\n",
       "      <td>1</td>\n",
       "      <td>Dry</td>\n",
       "      <td>Single carriageway</td>\n",
       "      <td>Urban</td>\n",
       "      <td>Fine no high winds</td>\n",
       "      <td>Car</td>\n",
       "      <td>2022-08-17</td>\n",
       "      <td>2022</td>\n",
       "      <td>8</td>\n",
       "      <td>17</td>\n",
       "      <td>2</td>\n",
       "    </tr>\n",
       "  </tbody>\n",
       "</table>\n",
       "</div>"
      ],
      "text/plain": [
       "                Index Accident_Severity Accident Date   Latitude  \\\n",
       "717     200701CP00032             Fatal    30/01/2019  51.510978   \n",
       "997     200701CP00318             Fatal    19/11/2019  51.516045   \n",
       "183074  200801CP00222             Fatal    18/09/2020  51.510836   \n",
       "183146  200801CP00295             Fatal    28/11/2020  51.518081   \n",
       "353392  200901CP00040             Fatal    24/04/2021  51.509631   \n",
       "368287  200901TB00089             Fatal    12/06/2021  51.517812   \n",
       "517269  201001CP00342             Fatal    17/08/2022  51.515808   \n",
       "\n",
       "             Light_Conditions   District Area  Longitude  \\\n",
       "717                  Daylight  City of London  -0.107581   \n",
       "997     Darkness - lights lit  City of London  -0.081859   \n",
       "183074               Daylight  City of London  -0.093319   \n",
       "183146  Darkness - lights lit  City of London  -0.079900   \n",
       "353392               Daylight  City of London  -0.085587   \n",
       "368287               Daylight  City of London  -0.107586   \n",
       "517269               Daylight  City of London  -0.089364   \n",
       "\n",
       "        Number_of_Casualties  Number_of_Vehicles Road_Surface_Conditions  \\\n",
       "717                        1                   2             Wet or damp   \n",
       "997                        7                   2             Wet or damp   \n",
       "183074                     1                   2                     Dry   \n",
       "183146                     1                   1             Wet or damp   \n",
       "353392                     2                   1                     Dry   \n",
       "368287                     1                   2                     Dry   \n",
       "517269                     1                   1                     Dry   \n",
       "\n",
       "                 Road_Type Urban_or_Rural_Area     Weather_Conditions  \\\n",
       "717       Dual carriageway               Urban     Fine no high winds   \n",
       "997       Dual carriageway               Urban  Raining no high winds   \n",
       "183074    Dual carriageway               Urban     Fine no high winds   \n",
       "183146  Single carriageway               Urban     Fine no high winds   \n",
       "353392  Single carriageway               Urban     Fine no high winds   \n",
       "368287          Roundabout               Urban     Fine no high winds   \n",
       "517269  Single carriageway               Urban     Fine no high winds   \n",
       "\n",
       "                 Vehicle_Type Accident_Date  Year  Month  Day  DayOfWeek  \n",
       "717                       Car    2019-01-30  2019      1   30          2  \n",
       "997     Motorcycle over 500cc    2019-11-19  2019     11   19          1  \n",
       "183074                    Car    2020-09-18  2020      9   18          4  \n",
       "183146                    Car    2020-11-28  2020     11   28          5  \n",
       "353392                    Car    2021-04-24  2021      4   24          5  \n",
       "368287                    Car    2021-06-12  2021      6   12          5  \n",
       "517269                    Car    2022-08-17  2022      8   17          2  "
      ]
     },
     "execution_count": 57,
     "metadata": {},
     "output_type": "execute_result"
    }
   ],
   "source": [
    "london_fatal"
   ]
  },
  {
   "cell_type": "code",
   "execution_count": 59,
   "id": "85e206dc-fea1-4667-9150-dc776bd519d3",
   "metadata": {},
   "outputs": [],
   "source": [
    "accident[\"Latitude\"] = accident[\"Latitude\"].fillna(accident[\"Latitude\"].mean())\n",
    "accident[\"Longitude\"] = accident[\"Longitude\"].fillna(accident[\"Longitude\"].mean())"
   ]
  },
  {
   "cell_type": "code",
   "execution_count": 60,
   "id": "0dcb6ea3-9a6d-43a4-aafb-512030caed22",
   "metadata": {},
   "outputs": [
    {
     "data": {
      "text/plain": [
       "Index                          0\n",
       "Accident_Severity              0\n",
       "Accident Date                  0\n",
       "Latitude                       0\n",
       "Light_Conditions               0\n",
       "District Area                  0\n",
       "Longitude                      0\n",
       "Number_of_Casualties           0\n",
       "Number_of_Vehicles             0\n",
       "Road_Surface_Conditions      726\n",
       "Road_Type                   4520\n",
       "Urban_or_Rural_Area           15\n",
       "Weather_Conditions         14128\n",
       "Vehicle_Type                   0\n",
       "Accident_Date                  0\n",
       "Year                           0\n",
       "Month                          0\n",
       "Day                            0\n",
       "DayOfWeek                      0\n",
       "dtype: int64"
      ]
     },
     "execution_count": 60,
     "metadata": {},
     "output_type": "execute_result"
    }
   ],
   "source": [
    "accident.isnull().sum()"
   ]
  },
  {
   "cell_type": "code",
   "execution_count": null,
   "id": "bc88ebb2-779a-44e9-9208-f6b11558d7c6",
   "metadata": {},
   "outputs": [],
   "source": []
  }
 ],
 "metadata": {
  "kernelspec": {
   "display_name": "Python 3 (ipykernel)",
   "language": "python",
   "name": "python3"
  },
  "language_info": {
   "codemirror_mode": {
    "name": "ipython",
    "version": 3
   },
   "file_extension": ".py",
   "mimetype": "text/x-python",
   "name": "python",
   "nbconvert_exporter": "python",
   "pygments_lexer": "ipython3",
   "version": "3.13.7"
  }
 },
 "nbformat": 4,
 "nbformat_minor": 5
}
